{
 "cells": [
  {
   "cell_type": "markdown",
   "metadata": {},
   "source": [
    "# Zaawansowane sieci neuronowe w detekcji sentymentu\n",
    "\n",
    "Na dzisiejszych laboratoriach skupimy się na wykorzystaniu zaawansowanych architektur sieci neuronowych do problemu wykrywania sentymentu (emocji: pozytywnych i negatywnych), które zawarte są w tekstach.\n",
    "\n",
    "Ponieważ implementacja sieci LSTM i GRU jest dość trudna/czasochłonna - wykorzystamy gotowy framework, który pozwoli nam na zdefiniowanie i wyuczenie sieci neuronowej na wysokim poziomie - **Keras**.\n",
    "\n",
    "Ocenę sentymentu przeprowadzimy na gotowym zbiorze recenzji z portalu IMDB, który jest już odpowiednio przeprocesowany i posiada zdefiniowany oczekiwany sentyment dla każdego tekstu (a więc dla którego bez wysiłku możemy uruchomić algorytmy klasyfikacji i je ocenić). Zaczynajmy!"
   ]
  },
  {
   "cell_type": "markdown",
   "metadata": {},
   "source": [
    "## Dane do uczenia\n",
    "\n",
    "Poniższy fragment kodu pobiera dane do uczenia. Funkcja imdb.load_data() ładuje zarówno zbiór uczący (wektory cech, oraz etykiety), jak i analogiczny zbiór testowy. \n",
    "\n",
    "Poniżej wyświetlony na ekranie jest jeden z przykładów uczących oraz przypisana do niego etykieta.\n",
    "\n",
    "Widzimy, że tekst reprezentowany jest sekwencją liczb. Co one oznaczają?\n",
    "Każda liczba reprezentuje słowo (jest identyfikatorem słowa), identyfikatory posortowane są względem częstości występowania słów, zatem słowo o identyfikatorze 10 występuje w korpusie częśćiej niż słowo o identyfikatorze 11.\n",
    "Dodatkowo wprowadzone są specjalne znaczniki BOS - początek zdania i EOS - koniec zdania. Oba równiez reprezentowane są w formie liczbowej.\n",
    "\n",
    "Pamiętamy z jednych z pierwszych laboratoriów, że duża wielkość słownika jest problematyczna. Dobrym pomysłem jest często odrzucenie najrzadziej wystepujących słów, ponieważ one nie mają wielkiego znaczenia (Kiedy uczymy się nowego języka - często nie rozumiemy pojedynczych słów, ale znajomość pozostałych sprawia, że jesteśmy w stanie zrozumieć sens tekstu). Aby ograniczyć rozmiar słownika, w funkcji load_data() możemy zadać parametr num_words o określonej wartości. Wartość ta, mówi nam ile najczęściej występujących słów bierzemy pod uwagę. Wszystkie rzadsze słowa - reprezentowane są zbiorczo taką samą wartością liczbową oznaczającą nieznany token (Unknown token).\n",
    "\n",
    "Inną ważną kwestią jest długość recenzji - każda z nich może składać się z innej liczby słów. O ile sieci rekurencyjne są teoretycznie w stanie poradzić sobie z sekwencjami o różnej długości, to w praktyce optymalizacje wymagają, aby sekwencje były reprezentowane poprzez taką samą długość wektora cech. Aby wyrównać liczbę cech na wejściu stosuje się tzw. padding do określonej długości. Jeśli wektor cech recenzji jest dłuższy niż zadany padding - zostaje on ucięty, jeśli zaś jest krótszy - dodawane są cechy o wartości 0, aby dopełnić długości.\n",
    "\n",
    "**Zadanie 1 (1.25 punktu)**: Poniższy kod pobiera dane z IMDB ograniczając liczbę słów w słowniku do 10000. \n",
    "Chcielibyśmy przyjrzeć się danym oraz zastosować na nich padding. Aby to zrobić - wykonajmy następujące kroki:\n",
    "<ol>\n",
    "    <li>Sprawdźmy i wyświetlmy średnią długość wektora w x_train - pozwoli nam to sprawdzić ile średnio słów jest w recenzji</li>\n",
    "    <li>Sprawdźmy i wyświetlmy odchylenie standardowe wektora x_train - pozwoli nam to określić jak wygląda rozrzut wartości od średniej</li>\n",
    "    <li>Stosując funkcję pad_sequences z kerasa (zaimportowana w pierwszej linijce) - nadpiszmy zbiory x_train i x_test tak, aby każdy wektor miał długość 500 (https://keras.io/preprocessing/sequence/). Wybrana długość wynika z analizy z poprzednich podpunktów (średnia i odch. std.). Jak teraz wygląda średnia długość i odchylenie std?</li>\n",
    "    <li>Nasz model będziemy weryfikować na zbiorze testowym z użyciem miary accuracy (jaki % podjętych przez klasyfikator decyzji jest poprawnych). Warto sprawdzić jak wygląda rozkład etykiet w zbiorze testowym. Sprawdź: jaki procent zbioru testowego stanowią etykiety o wartości 1? jaki procent zbioru testowego stanowią etykiety o wartości 0?\n",
    "</ol>"
   ]
  },
  {
   "cell_type": "code",
   "execution_count": 12,
   "metadata": {},
   "outputs": [
    {
     "name": "stderr",
     "output_type": "stream",
     "text": [
      "\n",
      "100%|██████████| 25000/25000 [00:00<00:00, 1205925.11it/s]"
     ]
    },
    {
     "name": "stdout",
     "output_type": "stream",
     "text": [
      "[1, 14, 22, 16, 43, 530, 973, 1622, 1385, 65, 458, 4468, 66, 3941, 4, 173, 36, 256, 5, 25, 100, 43, 838, 112, 50, 670, 2, 9, 35, 480, 284, 5, 150, 4, 172, 112, 167, 2, 336, 385, 39, 4, 172, 4536, 1111, 17, 546, 38, 13, 447, 4, 192, 50, 16, 6, 147, 2025, 19, 14, 22, 4, 1920, 4613, 469, 4, 22, 71, 87, 12, 16, 43, 530, 38, 76, 15, 13, 1247, 4, 22, 17, 515, 17, 12, 16, 626, 18, 2, 5, 62, 386, 12, 8, 316, 8, 106, 5, 4, 2223, 5244, 16, 480, 66, 3785, 33, 4, 130, 12, 16, 38, 619, 5, 25, 124, 51, 36, 135, 48, 25, 1415, 33, 6, 22, 12, 215, 28, 77, 52, 5, 14, 407, 16, 82, 2, 8, 4, 107, 117, 5952, 15, 256, 4, 2, 7, 3766, 5, 723, 36, 71, 43, 530, 476, 26, 400, 317, 46, 7, 4, 2, 1029, 13, 104, 88, 4, 381, 15, 297, 98, 32, 2071, 56, 26, 141, 6, 194, 7486, 18, 4, 226, 22, 21, 134, 476, 26, 480, 5, 144, 30, 5535, 18, 51, 36, 28, 224, 92, 25, 104, 4, 226, 65, 16, 38, 1334, 88, 12, 16, 283, 5, 16, 4472, 113, 103, 32, 15, 16, 5345, 19, 178, 32]\n",
      "1\n",
      "@1\n"
     ]
    },
    {
     "name": "stderr",
     "output_type": "stream",
     "text": [
      "\n",
      "\n",
      "100%|██████████| 25000/25000 [00:00<00:00, 631409.84it/s]"
     ]
    },
    {
     "name": "stdout",
     "output_type": "stream",
     "text": [
      "@2\n"
     ]
    },
    {
     "name": "stderr",
     "output_type": "stream",
     "text": [
      "\n"
     ]
    },
    {
     "data": {
      "image/png": "[encoded data removed]",
      "text/plain": [
       "<Figure size 432x288 with 2 Axes>"
      ]
     },
     "metadata": {
      "needs_background": "light"
     },
     "output_type": "display_data"
    },
    {
     "name": "stdout",
     "output_type": "stream",
     "text": [
      "Przed paddingiem. Średnia długość wektora: 238.71364; odchylenie std: 176.49367364852034\n",
      "Po paddingu. Średnia długość wektora: 500.0; odchylenie std: 0.0\n",
      "W zbiorze testowym jest 12500 elementów o pozytywnym sentymencie i 12500 elementów o negatywnym. Sentyment pozytywny stanowi 50.0% zbioru.\n"
     ]
    }
   ],
   "source": [
    "%matplotlib inline\n",
    "import tensorflow as tf\n",
    "from tensorflow.keras.preprocessing.sequence import pad_sequences\n",
    "from tensorflow.keras.datasets import imdb\n",
    "from tqdm import tqdm\n",
    "import numpy as np\n",
    "\n",
    "(x_train, y_train), (x_test, y_test) = imdb.load_data(num_words=10000)\n",
    "\n",
    "print(x_train[0]) # pokaż wektor cech dla pierwszej recenzji\n",
    "print(y_train[0]) # pokaż etykietę (1 = sentyment pozytywny; 0 = sentyment negatywny)\n",
    "\n",
    "print(\"@1\")\n",
    "shapes = [len(x) for x in tqdm(x_train)]\n",
    "average_x_len = np.mean(shapes) # TODO: oblicz średnią liczbę cech w wektorach x_train (możesz wykorzystać numpy)\n",
    "stddev_x_len = np.std(shapes) # TODO: oblicz odchylenie standardowe po x_train (możesz wykorzystać numpy)\n",
    "\n",
    "x_train = pad_sequences(x_train, maxlen=500) # TODO: zastosuj padding do 500 tokenów (wskazówka: zobacz na listę importowanych funkcji)\n",
    "x_test = pad_sequences(x_test, maxlen=500)   # TODO: zastosuj padding do 500 tokenów\n",
    "\n",
    "print(\"@2\")\n",
    "padded_shapes = [len(x) for x in tqdm(x_train)]\n",
    "padded_average_x_len = np.mean(padded_shapes) # TODO: oblicz średnią liczbę cech w wektorach x_train po paddingu\n",
    "padded_stddev_x_len = np.std(padded_shapes) # TODO: oblicz odchylenie standardowe po x_train po paddingu\n",
    "\n",
    "#--------------\n",
    "import matplotlib.pyplot as plt\n",
    "n_bins = 20\n",
    "fig, axs = plt.subplots(1, 2, sharey=True, tight_layout=True)\n",
    "axs[0].hist(shapes, bins=n_bins)\n",
    "axs[1].hist(padded_shapes, bins=n_bins)\n",
    "plt.show()\n",
    "#--------------\n",
    "\n",
    "count_positive = (y_test == 1).sum()  # TODO: ile elementów testowych ma przypisany sentyment pozytywny\n",
    "count_negative = (y_test == 0).sum()  # TODO: ile elementów testowych ma przypisany sentyment negatywny\n",
    "\n",
    "print(\"Przed paddingiem. Średnia długość wektora: {ave_len}; odchylenie std: {std_dev}\".format(\n",
    "    ave_len=average_x_len, std_dev=stddev_x_len))\n",
    "\n",
    "print(\"Po paddingu. Średnia długość wektora: {ave_len}; odchylenie std: {std_dev}\".format(\n",
    "    ave_len=padded_average_x_len, std_dev=padded_stddev_x_len))\n",
    "\n",
    "print(\"W zbiorze testowym jest {pos} elementów o pozytywnym sentymencie i {neg} elementów o negatywnym. Sentyment pozytywny stanowi {percentage}% zbioru.\".format(\n",
    "pos=count_positive, neg=count_negative, percentage = 100.0*(count_positive)/(count_positive + count_negative)))"
   ]
  },
  {
   "cell_type": "code",
   "execution_count": null,
   "metadata": {},
   "outputs": [],
   "source": []
  },
  {
   "cell_type": "markdown",
   "metadata": {},
   "source": [
    "## Przykładowa prosta sieć w Keras.\n",
    "Poniżej znajdziecie przykład kodu, którzy tworzy sieć dwuwarstwową o:\n",
    "<ol>\n",
    "<li>100 wejściach</li>\n",
    "<li>warstwie ukrytej z 64 neuronami o aktywacji ReLU</li>\n",
    "<li>warstwie wyjściowej z 1 neuronem o aktywacji sigmoidalnej</li>\n",
    "</ol>\n",
    "Ten kod będzie szablonem dla kolejnych zdań. Uruchom go i sprawdź jak prosta sieć działa \n",
    "\n",
    "$ReLU(x) = max(0, x)$, "
   ]
  },
  {
   "cell_type": "code",
   "execution_count": 17,
   "metadata": {},
   "outputs": [
    {
     "name": "stdout",
     "output_type": "stream",
     "text": [
      "Train on 25000 samples, validate on 25000 samples\n",
      "Epoch 1/5\n",
      "25000/25000 [==============================] - 4s 148us/sample - loss: 73.4402 - accuracy: 0.4994 - val_loss: 4.3048 - val_accuracy: 0.4959\n",
      "Epoch 2/5\n",
      "25000/25000 [==============================] - 3s 128us/sample - loss: 1.9936 - accuracy: 0.5065 - val_loss: 1.5232 - val_accuracy: 0.4996\n",
      "Epoch 3/5\n",
      "25000/25000 [==============================] - 3s 123us/sample - loss: 0.9284 - accuracy: 0.5074 - val_loss: 1.1877 - val_accuracy: 0.5007\n",
      "Epoch 4/5\n",
      "25000/25000 [==============================] - 3s 125us/sample - loss: 0.7556 - accuracy: 0.5157 - val_loss: 1.0535 - val_accuracy: 0.5005\n",
      "Epoch 5/5\n",
      "25000/25000 [==============================] - 3s 123us/sample - loss: 0.7185 - accuracy: 0.5099 - val_loss: 1.0264 - val_accuracy: 0.5049\n",
      "25000/25000 [==============================] - 0s 15us/sample - loss: 1.0264 - accuracy: 0.5049\n",
      "Trafność klasyfikacji to: 50.492000579833984%\n"
     ]
    }
   ],
   "source": [
    "import numpy as np\n",
    "np.random.seed(1337) # for reproducibility\n",
    "\n",
    "from tensorflow.keras.models import Sequential\n",
    "from tensorflow.keras.layers import Dense, Flatten, Embedding, LSTM, GRU, Conv1D, MaxPooling1D\n",
    "\n",
    "\n",
    "model = Sequential() \n",
    "# sequential = sieć jako lista warstw, dodajemy warstwy metodą .add() (jak w standardowej liście)\n",
    "model.add(Dense(units=64, input_dim=500, activation='relu'))\n",
    "# dodajemy warstwę Dense (gęstą). Dense oznacza, że wszystkie wejścia (w tym przypadku 100) \n",
    "# połączone są z neuronami warstwy w sposób każdy z każdym (każdy neuron z poprzedniej warstwy \n",
    "# połączony z każdym neuronem warstwy następnej, tak jak to robiliśmy na poprzednich laboratoriach)\n",
    "model.add(Dense(units=1, activation='sigmoid'))\n",
    "# rozmiar wejścia zdefiniować musimy tylko w pierwszej warstwie (definiujemy ile jest cech na wejściu).\n",
    "# Ponieważ model wie jakie są rozmiary poprzednich warstw - może w sposób automatyczny odkryć, że \n",
    "# opprzednia warstwa generuje 64 wyjścia\n",
    "\n",
    "model.compile(loss='binary_crossentropy',\n",
    "              # budujemy model! ustawiamy funkcję kosztu - mamy klasyfikację z dwiema etykietami,\n",
    "              # więc stosujemy 'binary_crossentropy'\n",
    "              optimizer='adam', \n",
    "              # wybieramy w jaki sposób sieć ma się uczyć\n",
    "              metrics=['accuracy'])\n",
    "              # i wybieramy jaka miara oceny nas interesuje\n",
    "\n",
    "\n",
    "model.fit(x_train, y_train, epochs=5, validation_data=(x_test, y_test)) # uczymy model na zbiorze treningowym, weryfikujemy na testowym, epochs - oznacza ile przejść po wszystkich przykładachw zbiorze uczącym powinno się wykonać.\n",
    "\n",
    "loss, accuracy = model.evaluate(x_test, y_test, batch_size=128) # ostateczna ewaluacja wyuczonego modelu\n",
    "print(\"Trafność klasyfikacji to: {acc}%\".format(acc=accuracy*100)) "
   ]
  },
  {
   "cell_type": "markdown",
   "metadata": {},
   "source": [
    "Jak widzimy, sieć generuje trafność na poziomie 50%. Ponieważ zarówno etykieta \"1\", jak i \"0\" w zbiorze testowym stanowią połowę - wiemy, że ten klasyfikator nie jest najlepszy (Taką samą trafność będą miały klasyfikatory: zwracające zawsze etykietę 0, zwracajace zawsze etykietę 1 oraz zwracające decyzje losowe).\n",
    "\n",
    "Czy jesteśmy w stanie coś z tym zrobić? \n",
    "Tak. Nasza poprzednia sieć próbowała uczyć się z listy identyfikatorów słów, to stosunkowo kiepska reprezentacja, ale pamiętamy, że całkiem nieźle sprawowały się tzw. Embeddingi. Szczęśliwie - keras udostępnia warstwy uczące się embeddingów z reprezentacji takiej, którą dotychczas podawaliśmy na wejściu.\n",
    "\n",
    "\n",
    "\n",
    "**Zadanie 2 (1.25 punktu) - Wykorzystanie embeddingów w sieci feed forward**\n",
    "Widząc w jaki sposób dodawane są kolejne warstwy w Kerasie (model.add(...)), przerób architekturę istniejącej sieci w następujący sposób:\n",
    "\n",
    "<ol>\n",
    "    <li>Pierwsza warstwa: Warstwa Embedding (https://keras.io/layers/embeddings/), ustaw długość generowanego wektora na 32, długość wejścia - taka jak wynika to z paddingu - 500, a także rozmiar słownika zgodny z tym co wybraliśmy przy pobieraniu danych (10000)</li>\n",
    "    <li>Druga warstwa: Flatten (https://keras.io/layers/core/); Zauważmy, że warstwa ucząca embeddingi - Embedding - zamienia nam każdy indentyfikator z wektora wejściowego na wektor o zadanej liczbie wymiarów. Każde słowo reprezentowane jest teraz nie pojedynczą liczbą a pojedynczym wektorem. Kiedy złożymy embeddingi wszystkich słów otrzymamy macierz wielkości: liczba słów x rozmiar embeddingu. Warstwa Flatten nie robi nic poza tym, że bierze taką macierz i zamienia znów na wektor poprzez połączenie ze sobą wszystkich wektorów embeddingów w jeden wielki wektor (ustawiając je w jednym wymiarze jeden za drugim) </li>\n",
    "    <li>Trzecia warstwa: klasyczna warstwa Dense (https://keras.io/layers/core/) np. z 64 neuronami i aktywacją relu\n",
    "    <li>Czwarta warstwa (wyjściowa): klasyczna warstwa Dense z 1 neuronem (generującym prawdopodobieństwo pozytywnego sentymentu) i aktywacją sigmoidalną (sigmoid)\n",
    "</ol>\n",
    "Parametry kompilacji, sposób uczenia i ewaluacji możesz pozostawić bez zmian. Czy trafność klasyfikacji wzrosła?\n"
   ]
  },
  {
   "cell_type": "code",
   "execution_count": 19,
   "metadata": {},
   "outputs": [
    {
     "name": "stdout",
     "output_type": "stream",
     "text": [
      "Train on 25000 samples, validate on 25000 samples\n",
      "Epoch 1/2\n",
      "25000/25000 [==============================] - 12s 472us/sample - loss: 0.4532 - accuracy: 0.7675 - val_loss: 0.2854 - val_accuracy: 0.8783\n",
      "Epoch 2/2\n",
      "25000/25000 [==============================] - 11s 454us/sample - loss: 0.1575 - accuracy: 0.9429 - val_loss: 0.2997 - val_accuracy: 0.8757\n",
      "25000/25000 [==============================] - 4s 170us/sample - loss: 0.2997 - accuracy: 0.8757\n",
      "Trafność klasyfikacji to: 87.57200241088867%\n"
     ]
    }
   ],
   "source": [
    "model = Sequential()\n",
    "\n",
    "model.add(Embedding(10000, 32, input_length=500))\n",
    "model.add(Flatten())\n",
    "model.add(Dense(units=64, activation='relu'))\n",
    "model.add(Dense(units=1, activation='sigmoid'))\n",
    "\n",
    "model.compile(loss='binary_crossentropy', optimizer='adam', metrics=['accuracy'])\n",
    "model.fit(x_train, y_train, validation_data=(x_test, y_test), epochs=2, batch_size=128)\n",
    "loss, accuracy = model.evaluate(x_test, y_test)\n",
    "print(\"Trafność klasyfikacji to: {acc}%\".format(acc=accuracy*100)) "
   ]
  },
  {
   "cell_type": "markdown",
   "metadata": {},
   "source": [
    "## Architektury rekurencyjne\n",
    "\n",
    "Aby zamodelować sieć rekurencyjną LSTM bądź GRU - możemy użyć dedykowanych warstw przygotowanych przez autorów Kerasa.\n",
    "\n",
    "\n",
    "**Zadanie 3 (1.25 punktu): Sieć rekurencyjna GRU i LSTM**\n",
    "Aby stworzyć taką sieć utwórz model z następującymi warstwami:\n",
    "\n",
    "<ol>\n",
    "    <li>Warstwa Embedding, analogicznie do poprzednich zadań. Rozmiar wektora embeddingów ustawmy na 32</li>\n",
    "    <li>Warstwa LSTM (https://keras.io/layers/recurrent/) - Warstwa sieci rekurencyjnej - nie potrzebuje wcześniejszego spłaszczenia warstwą Flatten. Ustawmy rozmiar tej warstwy na 32. Ponadto ustawmy parametry dropout i recurrent_dropout na 0.2 (parametr regularyzacyjny zabezpieczający przet przeuczeniem)</li>\n",
    "    <li>Warstwa Dense (wyjściowa) - Warstwa o aktywacji sigmoidalnej z 1 neuronem</li>\n",
    "</ol>\n",
    "\n",
    "Po uruchomieniu sieci wykorzystującej LSTM - zamień warstwę LSTM na GRU (https://keras.io/layers/recurrent/) z takimi samymi parametrami - czy sieć uczy się lepiej? Co z czasem uczenia?"
   ]
  },
  {
   "cell_type": "code",
   "execution_count": 21,
   "metadata": {},
   "outputs": [
    {
     "name": "stdout",
     "output_type": "stream",
     "text": [
      "Train on 25000 samples, validate on 25000 samples\n",
      "Epoch 1/2\n",
      "25000/25000 [==============================] - 121s 5ms/sample - loss: 0.5073 - accuracy: 0.7372 - val_loss: 0.3384 - val_accuracy: 0.8568\n",
      "Epoch 2/2\n",
      "25000/25000 [==============================] - 129s 5ms/sample - loss: 0.2957 - accuracy: 0.8785 - val_loss: 0.3355 - val_accuracy: 0.8599\n",
      "25000/25000 [==============================] - 56s 2ms/sample - loss: 0.3355 - accuracy: 0.8599\n",
      "Trafność klasyfikacji to: 85.98799705505371%\n",
      "Czas treningu: 250.38144612312317\n"
     ]
    },
    {
     "data": {
      "text/plain": [
       "'\\n\\n'"
      ]
     },
     "execution_count": 21,
     "metadata": {},
     "output_type": "execute_result"
    }
   ],
   "source": [
    "import time\n",
    "\n",
    "model = Sequential()\n",
    "\n",
    "model.add(Embedding(10000, 32, input_length=500))\n",
    "\n",
    "# ver 1.\n",
    "# model.add(LSTM(32))\n",
    "\n",
    "# ver 2.\n",
    "model.add(GRU(32))\n",
    "\n",
    "model.add(Dense(units=1, activation='sigmoid'))\n",
    "\n",
    "model.compile(loss='binary_crossentropy', optimizer='adam', metrics=['accuracy'])\n",
    "start_time = time.time()\n",
    "model.fit(x_train, y_train, validation_data=(x_test, y_test), epochs=2, batch_size=128)\n",
    "end_time = time.time()\n",
    "loss, accuracy = model.evaluate(x_test, y_test)\n",
    "print(\"Trafność klasyfikacji to: {acc}%\".format(acc=accuracy*100)) \n",
    "print(\"Czas treningu: {t}\".format(t=end_time - start_time))\n",
    "\n",
    "\n",
    "# ODP. ===================================\n",
    "\n",
    "\"\"\"\n",
    "Train on 25000 samples, validate on 25000 samples\n",
    "Epoch 1/2\n",
    "25000/25000 [==============================] - 120s 5ms/sample - loss: 0.5323 - accuracy: 0.7410 - val_loss: 0.3833 - val_accuracy: 0.8321\n",
    "Epoch 2/2\n",
    "25000/25000 [==============================] - 119s 5ms/sample - loss: 0.2841 - accuracy: 0.8862 - val_loss: 0.3129 - val_accuracy: 0.8696\n",
    "25000/25000 [==============================] - 55s 2ms/sample - loss: 0.3129 - accuracy: 0.8696\n",
    "Trafność klasyfikacji to: 86.95600032806396%\n",
    "Czas treningu: 238.74054670333862\n",
    "\"\"\"\n",
    "\n",
    "\"\"\"\n",
    "Train on 25000 samples, validate on 25000 samples\n",
    "Epoch 1/2\n",
    "25000/25000 [==============================] - 121s 5ms/sample - loss: 0.5073 - accuracy: 0.7372 - val_loss: 0.3384 - val_accuracy: 0.8568\n",
    "Epoch 2/2\n",
    "25000/25000 [==============================] - 129s 5ms/sample - loss: 0.2957 - accuracy: 0.8785 - val_loss: 0.3355 - val_accuracy: 0.8599\n",
    "25000/25000 [==============================] - 56s 2ms/sample - loss: 0.3355 - accuracy: 0.8599\n",
    "Trafność klasyfikacji to: 85.98799705505371%\n",
    "Czas treningu: 250.38144612312317\n",
    "\"\"\"\n",
    "\n",
    "# LSTM: lepsze val acc. (86.95%)  --- roznica ---\n",
    "# GRU:  gorsze val acc. (85.98)   ---     1%  ---\n",
    "#\n",
    "# --> GRU powinnien sie szybciej uczyc ale dla takiej architektury i \n",
    "#     wielkosci danych nie bedzie duzej roznicy\n",
    "#     dodatkowo na GPU roznicej bylyby bardziej wyrazne\n",
    "#     (ja trenuje na CPU na laptopie ;-()\n"
   ]
  },
  {
   "cell_type": "markdown",
   "metadata": {},
   "source": [
    "Jak widzimy siec rekurencyjna daje niższe rezultaty niż sieć feedforward. Dlaczego? \n",
    "Sieci rekurencyjne (LSTM i GRU) dają w wielu zadaniach wyniki, które są najlepsze możliwe. Jednakże trening takiej sieci trwa bardzo długo. Gdybyśmy odpowiednio dobrali liczbę warstw i parametry sieci - prawdopodobnie otrzymalibyśmy najlepsze rezultaty ze wsystkich porównywanych architektur - niestety za cenę czasu, który na laboratoriach jest ograniczony.\n",
    "\n",
    "Ponieważ obliczenia w niektórych architekturach są bardzo intensywne, bardzo popularnym jest wykonywanie tych obliczeń nie na procesorze, a na karcie graficznej. W przypadku posiadania dobrej karty graficznej, szybkość przetwarzania będzie dużo większa.\n",
    "\n",
    "## Architektury konwolucyjne\n",
    "\n",
    "Sieci konwolucyjne w Kerasie zostały już wykorzystane na laboratoriach ze sztucznej inteligencji. Wtedy - używaliśmy ich do detekcji czy obrazek przedstawiony na wejściu sieci reprezentował kota czy psa.\n",
    "\n",
    "Okazuje się, że problemach klasyfikacji tekstu sieci konwolucyjne (CNN - convolutional neural network) radzą sobie również bardzo dobrze (dają niezłe rezultaty, a czas ich uczenia jest zazwyczaj dużo niższy niż sieci rekurencyjnych)!\n",
    "\n",
    "Sprawdźmy jakie rezultaty otrzymamy zaprzęgając sieć konwolucyjną do naszego problemu:\n",
    "\n",
    "**Zadanie 4 (1.25 punktu)**: Przygotuj sieć konwolucyjną wg. następującego schematu:\n",
    "<ol>\n",
    "    <li>Warstwa pierwsza - Warstwa Embedding, analogiczna do poprzednich zadań </li>\n",
    "    <li>Warstwa druga - konwolucja jednowymiarowa. Użyj warstwy Conv1D (https://keras.io/layers/convolutional/) używając 32 filtrów, rozmiaru tzw. kernela = 3, padding ustawmy na 'same', a jako funkcję aktywacji 'relu' </li>\n",
    "    <li>Warstwa trzecia - MaxPooling1D (https://keras.io/layers/convolutional/), ustawmy rozmiar pool_size na 2 </li>\n",
    "    <li>Warstwa czwarta - Flatten - Znów - zamieniamy macierz będącą efektem operacji konwolucji na wektor </li>\n",
    "    <li>Warstwa piąta - Dense, 250 neuronów z aktywacją relu</li>\n",
    "    <li>Warstwa szósta (wyjściowa) - Dense, 1 neuron wyjściowy z aktywacją sigmoidalną (sigmoid)</li>\n",
    "</ol>\n"
   ]
  },
  {
   "cell_type": "code",
   "execution_count": 26,
   "metadata": {},
   "outputs": [
    {
     "name": "stdout",
     "output_type": "stream",
     "text": [
      "Train on 25000 samples, validate on 25000 samples\n",
      "Epoch 1/2\n",
      "25000/25000 [==============================] - 35s 1ms/sample - loss: 0.4525 - accuracy: 0.7596 - val_loss: 0.2723 - val_accuracy: 0.8876\n",
      "Epoch 2/2\n",
      "25000/25000 [==============================] - 35s 1ms/sample - loss: 0.1883 - accuracy: 0.9287 - val_loss: 0.2829 - val_accuracy: 0.8864\n",
      "25000/25000 [==============================] - 11s 450us/sample - loss: 0.2829 - accuracy: 0.8864\n",
      "Trafność klasyfikacji to: 88.63599896430969%\n"
     ]
    }
   ],
   "source": [
    "model = Sequential()\n",
    "\n",
    "model.add(Embedding(10000, 32, input_length=500))\n",
    "model.add(Conv1D(32, kernel_size=3, padding='same', activation='relu'))\n",
    "model.add(MaxPooling1D(pool_size=2))\n",
    "model.add(Flatten())\n",
    "model.add(Dense(units=250, activation='relu'))\n",
    "model.add(Dense(units=1, activation='sigmoid'))\n",
    "\n",
    "model.compile(loss='binary_crossentropy', optimizer='adam', metrics=['accuracy'])\n",
    "model.fit(x_train, y_train, validation_data=(x_test, y_test), epochs=2, batch_size=128)\n",
    "loss, accuracy = model.evaluate(x_test, y_test)\n",
    "print(\"Trafność klasyfikacji to: {acc}%\".format(acc=accuracy*100)) "
   ]
  },
  {
   "cell_type": "code",
   "execution_count": null,
   "metadata": {
    "collapsed": true
   },
   "outputs": [],
   "source": [
    "Hurra! mamy lepszy rezultat niz LSTM czy tez GRU ale moze to wynikac tylko dlatego ze trenowalismy 2 epoche"
   ]
  }
 ],
 "metadata": {
  "kernelspec": {
   "display_name": "Python 3",
   "language": "python",
   "name": "python3"
  },
  "language_info": {
   "codemirror_mode": {
    "name": "ipython",
    "version": 3
   },
   "file_extension": ".py",
   "mimetype": "text/x-python",
   "name": "python",
   "nbconvert_exporter": "python",
   "pygments_lexer": "ipython3",
   "version": "3.7.4"
  }
 },
 "nbformat": 4,
 "nbformat_minor": 2
}
